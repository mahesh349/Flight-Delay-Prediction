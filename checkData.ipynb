{
 "cells": [
  {
   "cell_type": "code",
   "execution_count": 1,
   "id": "6867b296",
   "metadata": {},
   "outputs": [
    {
     "name": "stdout",
     "output_type": "stream",
     "text": [
      "Null values in the dataset:\n",
      "DayOfWeek              0\n",
      "Date                   0\n",
      "DepTime                0\n",
      "ArrTime                0\n",
      "CRSArrTime             0\n",
      "UniqueCarrier          0\n",
      "Airline                0\n",
      "FlightNum              0\n",
      "TailNum                0\n",
      "ActualElapsedTime      0\n",
      "CRSElapsedTime         0\n",
      "AirTime                0\n",
      "ArrDelay               0\n",
      "DepDelay               0\n",
      "Origin                 0\n",
      "Org_Airport          261\n",
      "Dest                   0\n",
      "Dest_Airport         297\n",
      "Distance               0\n",
      "TaxiIn                 0\n",
      "TaxiOut                0\n",
      "Cancelled              0\n",
      "CancellationCode       0\n",
      "Diverted               0\n",
      "CarrierDelay           0\n",
      "WeatherDelay           0\n",
      "NASDelay               0\n",
      "SecurityDelay          0\n",
      "LateAircraftDelay      0\n",
      "dtype: int64\n",
      "There are missing values in the dataset.\n"
     ]
    }
   ],
   "source": [
    "import pandas as pd\n",
    "import numpy as np\n",
    "\n",
    "# Load the CSV file into a DataFrame\n",
    "file_path = 'output_dataset.csv'  # Replace 'your_dataset.csv' with the actual file path\n",
    "df = pd.read_csv(file_path)\n",
    "\n",
    "# Check for null or missing values in the DataFrame\n",
    "null_values = df.isnull().sum()\n",
    "\n",
    "# Display the null values\n",
    "print(\"Null values in the dataset:\")\n",
    "print(null_values)\n",
    "\n",
    "# Alternatively, you can check if there are any missing values in the entire DataFrame\n",
    "if df.isnull().values.any():\n",
    "    print(\"There are missing values in the dataset.\")\n",
    "else:\n",
    "    print(\"No missing values in the dataset.\")"
   ]
  },
  {
   "cell_type": "code",
   "execution_count": null,
   "id": "de5459d5-9eda-4ea9-90ea-a61776cfe297",
   "metadata": {},
   "outputs": [],
   "source": []
  }
 ],
 "metadata": {
  "kernelspec": {
   "display_name": "Python 3 (ipykernel)",
   "language": "python",
   "name": "python3"
  },
  "language_info": {
   "codemirror_mode": {
    "name": "ipython",
    "version": 3
   },
   "file_extension": ".py",
   "mimetype": "text/x-python",
   "name": "python",
   "nbconvert_exporter": "python",
   "pygments_lexer": "ipython3",
   "version": "3.12.0"
  }
 },
 "nbformat": 4,
 "nbformat_minor": 5
}
