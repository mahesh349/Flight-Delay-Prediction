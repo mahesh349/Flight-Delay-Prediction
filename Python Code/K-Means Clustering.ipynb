{
 "cells": [
  {
   "cell_type": "code",
   "execution_count": 3,
   "id": "f714fd4f-fdc3-4743-a971-50bc2e657806",
   "metadata": {},
   "outputs": [
    {
     "name": "stdout",
     "output_type": "stream",
     "text": [
      "\n",
      "K-Means Results:\n",
      "Silhouette Score: 0.8452326256825136\n"
     ]
    }
   ],
   "source": [
    "import pandas as pd\n",
    "from sklearn.model_selection import train_test_split\n",
    "from sklearn.preprocessing import StandardScaler, LabelEncoder\n",
    "from sklearn.cluster import KMeans\n",
    "from sklearn.metrics import silhouette_score\n",
    "from sklearn.exceptions import ConvergenceWarning\n",
    "import warnings\n",
    "\n",
    "# Load the dataset\n",
    "file_path = 'output_dataset.csv'  # Replace 'your_dataset.csv' with the actual file path\n",
    "df = pd.read_csv(file_path)\n",
    "\n",
    "# Drop non-numeric columns that are not needed for clustering\n",
    "df = df.drop(['DayOfWeek', 'Date', 'UniqueCarrier', 'Airline', 'FlightNum', 'TailNum', 'Origin', 'Org_Airport', 'Dest', 'Dest_Airport', 'Cancelled', 'CancellationCode', 'Diverted'], axis=1)\n",
    "\n",
    "# Select relevant columns for clustering\n",
    "cluster_columns = ['CarrierDelay', 'WeatherDelay', 'NASDelay', 'SecurityDelay', 'LateAircraftDelay', 'ArrDelay']\n",
    "X = df[cluster_columns].copy()  # Create a copy\n",
    "\n",
    "# Define range-specific encoding function with 10 partitions\n",
    "def range_encoding(value):\n",
    "    if value <= 100:\n",
    "        return '0-100'\n",
    "    elif 101 <= value <= 200:\n",
    "        return '101-200'\n",
    "    elif 201 <= value <= 300:\n",
    "        return '201-300'\n",
    "    elif 301 <= value <= 400:\n",
    "        return '301-400'\n",
    "    elif 401 <= value <= 500:\n",
    "        return '401-500'\n",
    "    elif 501 <= value <= 600:\n",
    "        return '501-600'\n",
    "    elif 601 <= value <= 700:\n",
    "        return '601-700'\n",
    "    elif 701 <= value <= 800:\n",
    "        return '701-800'\n",
    "    elif 801 <= value <= 900:\n",
    "        return '801-900'\n",
    "    else:\n",
    "        return '901-1000'\n",
    "\n",
    "# Apply range-specific encoding to columns\n",
    "for col in cluster_columns:\n",
    "    X[col] = X[col].apply(range_encoding)\n",
    "\n",
    "# Convert categorical variables to numeric using Label Encoding\n",
    "label_encoder = LabelEncoder()\n",
    "for col in cluster_columns:\n",
    "    X[col] = label_encoder.fit_transform(X[col])\n",
    "\n",
    "# Standardize the features\n",
    "scaler = StandardScaler()\n",
    "X_scaled = scaler.fit_transform(X)\n",
    "\n",
    "# Suppress ConvergenceWarnings\n",
    "warnings.filterwarnings(\"ignore\", category=ConvergenceWarning)\n",
    "\n",
    "# Create and fit the K-Means model\n",
    "kmeans = KMeans(n_clusters=3, random_state=42, n_init=10)\n",
    "kmeans.fit(X_scaled)\n",
    "\n",
    "# Get cluster labels and add them to the original dataframe\n",
    "df['Cluster'] = kmeans.labels_\n",
    "\n",
    "# Evaluate clustering using silhouette score\n",
    "silhouette_avg = silhouette_score(X_scaled, kmeans.labels_)\n",
    "print(\"\\nK-Means Results:\")\n",
    "print(\"Silhouette Score:\", silhouette_avg)\n"
   ]
  },
  {
   "cell_type": "code",
   "execution_count": null,
   "id": "3a64a8e9-1190-48ad-b056-64dcc77a18af",
   "metadata": {},
   "outputs": [],
   "source": []
  }
 ],
 "metadata": {
  "kernelspec": {
   "display_name": "Python 3 (ipykernel)",
   "language": "python",
   "name": "python3"
  },
  "language_info": {
   "codemirror_mode": {
    "name": "ipython",
    "version": 3
   },
   "file_extension": ".py",
   "mimetype": "text/x-python",
   "name": "python",
   "nbconvert_exporter": "python",
   "pygments_lexer": "ipython3",
   "version": "3.12.0"
  }
 },
 "nbformat": 4,
 "nbformat_minor": 5
}
