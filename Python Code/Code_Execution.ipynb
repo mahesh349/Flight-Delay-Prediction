{
 "cells": [
  {
   "cell_type": "code",
   "execution_count": null,
   "id": "83033e2a",
   "metadata": {},
   "outputs": [],
   "source": [
    "import pandas as pd\n",
    "from sklearn.model_selection import train_test_split\n",
    "from sklearn.preprocessing import StandardScaler, LabelEncoder\n",
    "from sklearn.linear_model import LogisticRegression\n",
    "from sklearn.neighbors import KNeighborsClassifier\n",
    "from sklearn.naive_bayes import GaussianNB\n",
    "from sklearn.ensemble import RandomForestClassifier\n",
    "from sklearn.linear_model import LinearRegression\n",
    "from xgboost import XGBClassifier\n",
    "from tensorflow.keras.models import Sequential\n",
    "from tensorflow.keras.layers import Dense\n",
    "from sklearn.svm import SVC\n",
    "from sklearn.tree import DecisionTreeClassifier\n",
    "from sklearn.metrics import accuracy_score, classification_report, confusion_matrix, mean_squared_error, r2_score\n",
    "from sklearn.exceptions import ConvergenceWarning\n",
    "import matplotlib.pyplot as plt\n",
    "import seaborn as sns\n",
    "import warnings"
   ]
  },
  {
   "cell_type": "code",
   "execution_count": null,
   "id": "13e04a0e",
   "metadata": {},
   "outputs": [],
   "source": [
    "df = pd.read_csv(\"./output_dataset.csv\")"
   ]
  },
  {
   "cell_type": "code",
   "execution_count": null,
   "id": "33f43fba",
   "metadata": {},
   "outputs": [],
   "source": [
    "df.head()"
   ]
  },
  {
   "cell_type": "code",
   "execution_count": null,
   "id": "0a4ebdb1",
   "metadata": {},
   "outputs": [],
   "source": [
    "# Print the dimention of the dataframe and also show all the column names in the dataset:\n",
    "rows, cols = df.shape\n",
    "print(f\"SHAPE BREAKDOWN\\n{rows} rows and {cols} columns\")\n",
    "\n",
    "print(\"\\nCOLUMN BREAKDOWN\")\n",
    "print(df.columns)"
   ]
  },
  {
   "cell_type": "code",
   "execution_count": null,
   "id": "249ab32f",
   "metadata": {},
   "outputs": [],
   "source": [
    "# Display how many zero values each column has\n",
    "for column_name in df.columns:\n",
    "    column = df[column_name]\n",
    "    count = (column == 0).sum()\n",
    "    print(\"Total Zero in \",column_name,\" is: \",count)"
   ]
  },
  {
   "cell_type": "markdown",
   "id": "3156f411",
   "metadata": {},
   "source": [
    "<h2> Data Cleaning </h2>"
   ]
  },
  {
   "cell_type": "code",
   "execution_count": null,
   "id": "d3f06eac",
   "metadata": {},
   "outputs": [],
   "source": [
    "# Display all unique values in each column:\n",
    "print(\"Unique Value in Each Columns\")\n",
    "df.nunique()"
   ]
  },
  {
   "cell_type": "code",
   "execution_count": null,
   "id": "fd1be2f7",
   "metadata": {},
   "outputs": [],
   "source": [
    "# Summarise Dataset:\n",
    "print(df.info())\n",
    "print(df.describe())"
   ]
  },
  {
   "cell_type": "code",
   "execution_count": null,
   "id": "bdaa9e48",
   "metadata": {},
   "outputs": [],
   "source": [
    "# Visualize the distribution of the target variable 'ArrDelay' after data cleaning\n",
    "plt.figure(figsize=(10, 6))\n",
    "sns.histplot(df['ArrDelay'], bins=30, kde=True)\n",
    "plt.title('Distribution of Arrival Delays (After Data Cleaning)')\n",
    "plt.xlabel('Arrival Delay (minutes)')\n",
    "plt.ylabel('Frequency')\n",
    "plt.show()"
   ]
  },
  {
   "cell_type": "code",
   "execution_count": null,
   "id": "c5321a34",
   "metadata": {},
   "outputs": [],
   "source": [
    "# Correlation matrix after data cleaning\n",
    "correlation_after_cleaning = df.corr()\n",
    "plt.figure(figsize=(12, 10))\n",
    "sns.heatmap(correlation_after_cleaning, annot=True, cmap='coolwarm', fmt=\".0%\")\n",
    "plt.title('Correlation Matrix After Data Cleaning')\n",
    "plt.show()"
   ]
  },
  {
   "cell_type": "code",
   "execution_count": null,
   "id": "360b0a56",
   "metadata": {},
   "outputs": [],
   "source": [
    "df.hist(figsize=(20, 20))\n",
    "plt.show()"
   ]
  },
  {
   "cell_type": "code",
   "execution_count": null,
   "id": "e4b2aea5",
   "metadata": {},
   "outputs": [],
   "source": [
    "# Selecting the first 10 numerical columns\n",
    "numerical_columns = df.select_dtypes(include='number').columns[:10]\n",
    "\n",
    "# Creating subplots\n",
    "fig, axes = plt.subplots(nrows=5, ncols=2, figsize=(20, 20))\n",
    "fig.suptitle('Histograms for Numerical Columns', fontsize=16)\n",
    "\n",
    "# Plotting histograms for each numerical column\n",
    "for i, column in enumerate(numerical_columns):\n",
    "    sns.histplot(df[column], ax=axes[i//2, i%2], kde=True)\n",
    "    axes[i//2, i%2].set_title(column)\n",
    "\n",
    "# Adjusting layout\n",
    "plt.tight_layout(rect=[0, 0.03, 1, 0.95])\n",
    "plt.show()"
   ]
  },
  {
   "cell_type": "code",
   "execution_count": null,
   "id": "bdeaa5d3",
   "metadata": {},
   "outputs": [],
   "source": [
    "# Drop non-numeric columns that are not needed for prediction\n",
    "df = df.drop(['DayOfWeek', 'Date', 'UniqueCarrier', 'Airline', 'FlightNum', 'TailNum', 'Origin', 'Org_Airport', 'Dest', 'Dest_Airport', 'Cancelled', 'CancellationCode', 'Diverted'], axis=1)"
   ]
  },
  {
   "cell_type": "markdown",
   "id": "c197feda",
   "metadata": {},
   "source": [
    "<h2> Implementing Models </h2>"
   ]
  },
  {
   "cell_type": "code",
   "execution_count": null,
   "id": "d7745841",
   "metadata": {},
   "outputs": [],
   "source": [
    "# Define range-specific encoding function with 10 partitions\n",
    "def range_encoding(value):\n",
    "    if value <= 100:\n",
    "        return '0-100'\n",
    "    elif 101 <= value <= 200:\n",
    "        return '101-200'\n",
    "    elif 201 <= value <= 300:\n",
    "        return '201-300'\n",
    "    elif 301 <= value <= 400:\n",
    "        return '301-400'\n",
    "    elif 401 <= value <= 500:\n",
    "        return '401-500'\n",
    "    elif 501 <= value <= 600:\n",
    "        return '501-600'\n",
    "    elif 601 <= value <= 700:\n",
    "        return '601-700'\n",
    "    elif 701 <= value <= 800:\n",
    "        return '701-800'\n",
    "    elif 801 <= value <= 900:\n",
    "        return '801-900'\n",
    "    else:\n",
    "        return '901-1000'\n",
    "\n",
    "# Apply range-specific encoding to 'CarrierDelay', 'WeatherDelay', 'NASDelay', 'SecurityDelay', 'LateAircraftDelay', and 'ArrDelay'\n",
    "for col in ['CarrierDelay', 'WeatherDelay', 'NASDelay', 'SecurityDelay', 'LateAircraftDelay', 'ArrDelay']:\n",
    "    df[col] = df[col].apply(range_encoding)\n",
    "\n",
    "# Convert categorical variables to numeric using Label Encoding\n",
    "label_encoder = LabelEncoder()\n",
    "for col in ['CarrierDelay', 'WeatherDelay', 'NASDelay', 'SecurityDelay', 'LateAircraftDelay', 'ArrDelay']:\n",
    "    df[col] = label_encoder.fit_transform(df[col])\n",
    "\n",
    "# Separate features (X) and target variable (y)\n",
    "X = df.drop('ArrDelay', axis=1)\n",
    "y = df['ArrDelay']\n",
    "\n",
    "# Split the data into training and testing sets\n",
    "X_train, X_test, y_train, y_test = train_test_split(X, y, test_size=0.2, random_state=42)\n",
    "\n",
    "# Standardize the features\n",
    "scaler = StandardScaler()\n",
    "X_train = scaler.fit_transform(X_train)\n",
    "X_test = scaler.transform(X_test)\n",
    "\n",
    "# Suppress ConvergenceWarnings\n",
    "warnings.filterwarnings(\"ignore\", category=ConvergenceWarning)"
   ]
  },
  {
   "cell_type": "markdown",
   "id": "36897081",
   "metadata": {},
   "source": [
    "<h2> K-Nearest Neighbour </h2>"
   ]
  },
  {
   "cell_type": "code",
   "execution_count": null,
   "id": "ff233dac",
   "metadata": {},
   "outputs": [],
   "source": [
    "# Iterate over different k values\n",
    "for k in [10]: #can use [3 and 5] too\n",
    "    # Create and train the KNN model\n",
    "    model = KNeighborsClassifier(n_neighbors=k)\n",
    "    model.fit(X_train, y_train)\n",
    "\n",
    "    # Make predictions on the test set\n",
    "    y_pred = model.predict(X_test)\n",
    "\n",
    "    # Evaluate the model\n",
    "    accuracy = accuracy_score(y_test, y_pred)\n",
    "    conf_matrix = confusion_matrix(y_test, y_pred)\n",
    "    classification_rep = classification_report(y_test, y_pred, zero_division=1)\n",
    "\n",
    "    # Display the results for each k\n",
    "    print(f\"\\nResults for k = {k}:\")\n",
    "    print(\"Accuracy:\", accuracy)\n",
    "    print(\"Confusion Matrix:\")\n",
    "    print(conf_matrix)\n",
    "    print(\"Classification Report:\")\n",
    "    print(classification_rep)\n",
    "\n",
    "# Re-enable warnings after fitting the models\n",
    "warnings.resetwarnings()"
   ]
  },
  {
   "cell_type": "markdown",
   "id": "b15b8114",
   "metadata": {},
   "source": [
    "<h2> Decision Tree </h2>"
   ]
  },
  {
   "cell_type": "code",
   "execution_count": null,
   "id": "339b4d67",
   "metadata": {},
   "outputs": [],
   "source": [
    "# Create and train the Decision Tree model\n",
    "model = DecisionTreeClassifier()\n",
    "model.fit(X_train, y_train)\n",
    "\n",
    "# Make predictions on the test set\n",
    "y_pred = model.predict(X_test)\n",
    "\n",
    "# Re-enable warnings after fitting the model\n",
    "warnings.resetwarnings()\n",
    "\n",
    "# Evaluate the model\n",
    "accuracy = accuracy_score(y_test, y_pred)\n",
    "conf_matrix = confusion_matrix(y_test, y_pred)\n",
    "classification_rep = classification_report(y_test, y_pred, zero_division=1)\n",
    "\n",
    "# Display the results\n",
    "print(\"Accuracy:\", accuracy)\n",
    "print(\"\\nConfusion Matrix:\")\n",
    "print(conf_matrix)\n",
    "print(\"\\nClassification Report:\")\n",
    "print(classification_rep)"
   ]
  },
  {
   "cell_type": "markdown",
   "id": "fb646d6e",
   "metadata": {},
   "source": [
    "<h2> Naive Bayes </h2>"
   ]
  },
  {
   "cell_type": "code",
   "execution_count": null,
   "id": "7e0cd477",
   "metadata": {},
   "outputs": [],
   "source": [
    "# Create and train the Naive Bayes model\n",
    "model = GaussianNB()\n",
    "model.fit(X_train, y_train)\n",
    "\n",
    "# Make predictions on the test set\n",
    "y_pred = model.predict(X_test)\n",
    "\n",
    "# Evaluate the model\n",
    "accuracy = accuracy_score(y_test, y_pred)\n",
    "conf_matrix = confusion_matrix(y_test, y_pred)\n",
    "classification_rep = classification_report(y_test, y_pred, zero_division=1)\n",
    "\n",
    "# Display the results\n",
    "print(\"\\nNaive Bayes Results:\")\n",
    "print(\"Accuracy:\", accuracy)\n",
    "print(\"\\nConfusion Matrix:\")\n",
    "print(conf_matrix)\n",
    "print(\"\\nClassification Report:\")\n",
    "print(classification_rep)\n",
    "\n",
    "# Re-enable warnings after fitting the model\n",
    "warnings.resetwarnings()\n"
   ]
  },
  {
   "cell_type": "markdown",
   "id": "97c4c031",
   "metadata": {},
   "source": [
    "<h2> SVM </h2>"
   ]
  },
  {
   "cell_type": "code",
   "execution_count": null,
   "id": "5f65cca3",
   "metadata": {},
   "outputs": [],
   "source": [
    "# Create and train the SVM model with different kernels and C values\n",
    "kernels = ['linear', 'poly', 'rbf']\n",
    "C_values = [20]\n",
    "\n",
    "for kernel in kernels:\n",
    "    for C in C_values:\n",
    "        # Create and train the SVM model\n",
    "        model = SVC(kernel=kernel, C=C)\n",
    "        model.fit(X_train, y_train)\n",
    "\n",
    "        # Make predictions on the test set\n",
    "        y_pred = model.predict(X_test)\n",
    "\n",
    "        # Evaluate the model\n",
    "        accuracy = accuracy_score(y_test, y_pred)\n",
    "        conf_matrix = confusion_matrix(y_test, y_pred)\n",
    "        classification_rep = classification_report(y_test, y_pred, zero_division=1)\n",
    "\n",
    "        # Display the results\n",
    "        print(f\"\\nSVM with Kernel={kernel} and C={C} Results:\")\n",
    "        print(\"Accuracy:\", accuracy)\n",
    "        print(\"\\nConfusion Matrix:\")\n",
    "        print(conf_matrix)\n",
    "        print(\"\\nClassification Report:\")\n",
    "        print(classification_rep)\n",
    "\n",
    "# Re-enable warnings after fitting the model\n",
    "warnings.resetwarnings()"
   ]
  },
  {
   "cell_type": "markdown",
   "id": "4f0de15f",
   "metadata": {},
   "source": [
    "<h2> Random Forest </h2>"
   ]
  },
  {
   "cell_type": "code",
   "execution_count": null,
   "id": "d98281f7",
   "metadata": {},
   "outputs": [],
   "source": [
    "# Create and train the Random Forest model\n",
    "model = RandomForestClassifier()\n",
    "model.fit(X_train, y_train)\n",
    "\n",
    "# Make predictions on the test set\n",
    "y_pred = model.predict(X_test)\n",
    "\n",
    "# Evaluate the model\n",
    "accuracy = accuracy_score(y_test, y_pred)\n",
    "conf_matrix = confusion_matrix(y_test, y_pred)\n",
    "classification_rep = classification_report(y_test, y_pred, zero_division=1)\n",
    "\n",
    "# Display the results\n",
    "print(\"\\nRandom Forest Results:\")\n",
    "print(\"Accuracy:\", accuracy)\n",
    "print(\"\\nConfusion Matrix:\")\n",
    "print(conf_matrix)\n",
    "print(\"\\nClassification Report:\")\n",
    "print(classification_rep)\n",
    "\n",
    "# Re-enable warnings after fitting the model\n",
    "warnings.resetwarnings()"
   ]
  },
  {
   "cell_type": "markdown",
   "id": "b3cf4654",
   "metadata": {},
   "source": [
    "<h2> Linear Regression </h2>"
   ]
  },
  {
   "cell_type": "code",
   "execution_count": null,
   "id": "be0504d6",
   "metadata": {},
   "outputs": [],
   "source": [
    "# Create and train the Linear Regression model\n",
    "model = LinearRegression()\n",
    "model.fit(X_train, y_train)\n",
    "\n",
    "# Make predictions on the test set\n",
    "y_pred = model.predict(X_test)\n",
    "\n",
    "# Evaluate the model\n",
    "mse = mean_squared_error(y_test, y_pred)\n",
    "r2 = r2_score(y_test, y_pred)\n",
    "\n",
    "# Display the results\n",
    "print(\"\\nLinear Regression Results:\")\n",
    "print(\"Mean Squared Error:\", mse)\n",
    "print(\"R-squared:\", r2)\n",
    "\n",
    "# Re-enable warnings after fitting the model\n",
    "warnings.resetwarnings()\n"
   ]
  },
  {
   "cell_type": "markdown",
   "id": "e59060a8",
   "metadata": {},
   "source": [
    "<h2> XGBoost </h2>"
   ]
  },
  {
   "cell_type": "code",
   "execution_count": null,
   "id": "dabfd63d",
   "metadata": {},
   "outputs": [],
   "source": [
    "# Create and train the XGBoost model\n",
    "model = XGBClassifier()\n",
    "model.fit(X_train, y_train)\n",
    "\n",
    "# Make predictions on the test set\n",
    "y_pred = model.predict(X_test)\n",
    "\n",
    "# Evaluate the model\n",
    "accuracy = accuracy_score(y_test, y_pred)\n",
    "conf_matrix = confusion_matrix(y_test, y_pred)\n",
    "classification_rep = classification_report(y_test, y_pred, zero_division=1)\n",
    "\n",
    "# Display the results\n",
    "print(\"\\nXGBoost Results:\")\n",
    "print(\"Accuracy:\", accuracy)\n",
    "print(\"\\nConfusion Matrix:\")\n",
    "print(conf_matrix)\n",
    "print(\"\\nClassification Report:\")\n",
    "print(classification_rep)\n",
    "\n",
    "# Re-enable warnings after fitting the model\n",
    "warnings.resetwarnings()"
   ]
  },
  {
   "cell_type": "markdown",
   "id": "c84f68c9",
   "metadata": {},
   "source": [
    "<h2> Artificial Neural Network </h2>"
   ]
  },
  {
   "cell_type": "code",
   "execution_count": null,
   "id": "3cb6cafe",
   "metadata": {},
   "outputs": [],
   "source": [
    "# Create and train the ANN model\n",
    "model = Sequential()\n",
    "model.add(Dense(64, input_dim=X_train.shape[1], activation='relu'))\n",
    "model.add(Dense(32, activation='relu'))\n",
    "model.add(Dense(1, activation='sigmoid'))\n",
    "\n",
    "model.compile(optimizer='adam', loss='binary_crossentropy', metrics=['accuracy'])\n",
    "model.fit(X_train, y_train, epochs=10, batch_size=32, validation_split=0.2, verbose=0)\n",
    "\n",
    "# Make predictions on the test set\n",
    "y_pred = (model.predict(X_test) > 0.5).astype(int).reshape(-1)\n",
    "\n",
    "# Evaluate the model\n",
    "accuracy = accuracy_score(y_test, y_pred)\n",
    "conf_matrix = confusion_matrix(y_test, y_pred)\n",
    "classification_rep = classification_report(y_test, y_pred, zero_division=1)\n",
    "\n",
    "# Display the results\n",
    "print(\"\\nANN Results:\")\n",
    "print(\"Accuracy:\", accuracy)\n",
    "print(\"\\nConfusion Matrix:\")\n",
    "print(conf_matrix)\n",
    "print(\"\\nClassification Report:\")\n",
    "print(classification_rep)\n",
    "\n",
    "# Re-enable warnings after fitting the model\n",
    "warnings.resetwarnings()"
   ]
  }
 ],
 "metadata": {
  "kernelspec": {
   "display_name": "Python 3 (ipykernel)",
   "language": "python",
   "name": "python3"
  },
  "language_info": {
   "codemirror_mode": {
    "name": "ipython",
    "version": 3
   },
   "file_extension": ".py",
   "mimetype": "text/x-python",
   "name": "python",
   "nbconvert_exporter": "python",
   "pygments_lexer": "ipython3",
   "version": "3.12.0"
  }
 },
 "nbformat": 4,
 "nbformat_minor": 5
}
